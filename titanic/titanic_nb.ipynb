{
 "cells": [
  {
   "cell_type": "code",
   "execution_count": 1,
   "metadata": {},
   "outputs": [
    {
     "name": "stderr",
     "output_type": "stream",
     "text": [
      "c:\\python36\\lib\\site-packages\\sklearn\\externals\\six.py:31: DeprecationWarning: The module is deprecated in version 0.21 and will be removed in version 0.23 since we've dropped support for Python 2.7. Please rely on the official version of six (https://pypi.org/project/six/).\n",
      "  \"(https://pypi.org/project/six/).\", DeprecationWarning)\n"
     ]
    }
   ],
   "source": [
    "# %load mlpack.py\n",
    "# %load mlpack.py\n",
    "# %load mlpack.py\n",
    "\n",
    "#Suppress Warninings\n",
    "import warnings\n",
    "warnings.filterwarnings('ignore')\n",
    "\n",
    "import pandas as pd\n",
    "import numpy as np\n",
    "from matplotlib import pyplot as plt\n",
    "import os\n",
    "import seaborn as sb\n",
    "from sklearn.metrics import accuracy_score,r2_score,classification_report, roc_auc_score\n",
    "from sklearn.preprocessing import LabelEncoder,OneHotEncoder, StandardScaler, Normalizer\n",
    "from sklearn.svm import SVC\n",
    "from sklearn.tree import DecisionTreeClassifier\n",
    "from sklearn.model_selection import KFold,StratifiedKFold, cross_val_score\n",
    "from sklearn.ensemble import BaggingClassifier,RandomForestClassifier,AdaBoostClassifier\n",
    "from sklearn.linear_model import LinearRegression\n",
    "from sklearn.linear_model import LogisticRegression\n",
    "\n",
    "from imblearn.over_sampling import SMOTE\n",
    "\n",
    "def read_basic(name=None):\n",
    "\tif(name==None):\n",
    "\t\traise ValueError('No File Name provided')\n",
    "\t\treturn 0\n",
    "\n",
    "\tdf = pd.read_csv(name)\n",
    "\tprint('Datatypes: \\n', df.dtypes)\n",
    "\tprint('-----------------------------\\n')\n",
    "\tprint('Dimension: \\n', df.shape)\n",
    "\tprint('-----------------------------\\n')\n",
    "\tprint('Missing values per column: \\n', df.isna().sum())\n",
    "\tprint('-----------------------------\\n')\n",
    "\tprint('Dataframe Info: \\n', df.info())\n",
    "\tprint('-----------------------------\\n')\n",
    "\tprint('Descriptive Stats: \\n', df.describe())\n",
    "\n",
    "\treturn df# %load mlpack.py\n"
   ]
  },
  {
   "cell_type": "code",
   "execution_count": 2,
   "metadata": {},
   "outputs": [
    {
     "name": "stdout",
     "output_type": "stream",
     "text": [
      "Datatypes: \n",
      " PassengerId      int64\n",
      "Survived         int64\n",
      "Pclass           int64\n",
      "Name            object\n",
      "Sex             object\n",
      "Age            float64\n",
      "SibSp            int64\n",
      "Parch            int64\n",
      "Ticket          object\n",
      "Fare           float64\n",
      "Cabin           object\n",
      "Embarked        object\n",
      "dtype: object\n",
      "-----------------------------\n",
      "\n",
      "Dimension: \n",
      " (891, 12)\n",
      "-----------------------------\n",
      "\n",
      "Missing values per column: \n",
      " PassengerId      0\n",
      "Survived         0\n",
      "Pclass           0\n",
      "Name             0\n",
      "Sex              0\n",
      "Age            177\n",
      "SibSp            0\n",
      "Parch            0\n",
      "Ticket           0\n",
      "Fare             0\n",
      "Cabin          687\n",
      "Embarked         2\n",
      "dtype: int64\n",
      "-----------------------------\n",
      "\n",
      "<class 'pandas.core.frame.DataFrame'>\n",
      "RangeIndex: 891 entries, 0 to 890\n",
      "Data columns (total 12 columns):\n",
      "PassengerId    891 non-null int64\n",
      "Survived       891 non-null int64\n",
      "Pclass         891 non-null int64\n",
      "Name           891 non-null object\n",
      "Sex            891 non-null object\n",
      "Age            714 non-null float64\n",
      "SibSp          891 non-null int64\n",
      "Parch          891 non-null int64\n",
      "Ticket         891 non-null object\n",
      "Fare           891 non-null float64\n",
      "Cabin          204 non-null object\n",
      "Embarked       889 non-null object\n",
      "dtypes: float64(2), int64(5), object(5)\n",
      "memory usage: 83.6+ KB\n",
      "Dataframe Info: \n",
      " None\n",
      "-----------------------------\n",
      "\n",
      "Descriptive Stats: \n",
      "        PassengerId    Survived      Pclass         Age       SibSp  \\\n",
      "count   891.000000  891.000000  891.000000  714.000000  891.000000   \n",
      "mean    446.000000    0.383838    2.308642   29.699118    0.523008   \n",
      "std     257.353842    0.486592    0.836071   14.526497    1.102743   \n",
      "min       1.000000    0.000000    1.000000    0.420000    0.000000   \n",
      "25%     223.500000    0.000000    2.000000   20.125000    0.000000   \n",
      "50%     446.000000    0.000000    3.000000   28.000000    0.000000   \n",
      "75%     668.500000    1.000000    3.000000   38.000000    1.000000   \n",
      "max     891.000000    1.000000    3.000000   80.000000    8.000000   \n",
      "\n",
      "            Parch        Fare  \n",
      "count  891.000000  891.000000  \n",
      "mean     0.381594   32.204208  \n",
      "std      0.806057   49.693429  \n",
      "min      0.000000    0.000000  \n",
      "25%      0.000000    7.910400  \n",
      "50%      0.000000   14.454200  \n",
      "75%      0.000000   31.000000  \n",
      "max      6.000000  512.329200  \n"
     ]
    }
   ],
   "source": [
    "titanic_df = read_basic('train.csv')"
   ]
  },
  {
   "cell_type": "code",
   "execution_count": 3,
   "metadata": {},
   "outputs": [
    {
     "name": "stdout",
     "output_type": "stream",
     "text": [
      "Datatypes: \n",
      " PassengerId      int64\n",
      "Survived         int64\n",
      "Pclass           int64\n",
      "Name            object\n",
      "Sex             object\n",
      "Age            float64\n",
      "SibSp            int64\n",
      "Parch            int64\n",
      "Ticket          object\n",
      "Fare           float64\n",
      "Cabin           object\n",
      "Embarked        object\n",
      "dtype: object\n",
      "-----------------------------\n",
      "\n",
      "Dimension: \n",
      " (891, 12)\n",
      "-----------------------------\n",
      "\n",
      "Missing values per column: \n",
      " PassengerId      0\n",
      "Survived         0\n",
      "Pclass           0\n",
      "Name             0\n",
      "Sex              0\n",
      "Age            177\n",
      "SibSp            0\n",
      "Parch            0\n",
      "Ticket           0\n",
      "Fare             0\n",
      "Cabin          687\n",
      "Embarked         2\n",
      "dtype: int64\n",
      "-----------------------------\n",
      "\n",
      "<class 'pandas.core.frame.DataFrame'>\n",
      "RangeIndex: 891 entries, 0 to 890\n",
      "Data columns (total 12 columns):\n",
      "PassengerId    891 non-null int64\n",
      "Survived       891 non-null int64\n",
      "Pclass         891 non-null int64\n",
      "Name           891 non-null object\n",
      "Sex            891 non-null object\n",
      "Age            714 non-null float64\n",
      "SibSp          891 non-null int64\n",
      "Parch          891 non-null int64\n",
      "Ticket         891 non-null object\n",
      "Fare           891 non-null float64\n",
      "Cabin          204 non-null object\n",
      "Embarked       889 non-null object\n",
      "dtypes: float64(2), int64(5), object(5)\n",
      "memory usage: 83.6+ KB\n",
      "Dataframe Info: \n",
      " None\n",
      "-----------------------------\n",
      "\n",
      "Descriptive Stats: \n",
      "        PassengerId    Survived      Pclass         Age       SibSp  \\\n",
      "count   891.000000  891.000000  891.000000  714.000000  891.000000   \n",
      "mean    446.000000    0.383838    2.308642   29.699118    0.523008   \n",
      "std     257.353842    0.486592    0.836071   14.526497    1.102743   \n",
      "min       1.000000    0.000000    1.000000    0.420000    0.000000   \n",
      "25%     223.500000    0.000000    2.000000   20.125000    0.000000   \n",
      "50%     446.000000    0.000000    3.000000   28.000000    0.000000   \n",
      "75%     668.500000    1.000000    3.000000   38.000000    1.000000   \n",
      "max     891.000000    1.000000    3.000000   80.000000    8.000000   \n",
      "\n",
      "            Parch        Fare  \n",
      "count  891.000000  891.000000  \n",
      "mean     0.381594   32.204208  \n",
      "std      0.806057   49.693429  \n",
      "min      0.000000    0.000000  \n",
      "25%      0.000000    7.910400  \n",
      "50%      0.000000   14.454200  \n",
      "75%      0.000000   31.000000  \n",
      "max      6.000000  512.329200  \n",
      "S      644\n",
      "C      168\n",
      "Q       77\n",
      "nan      2\n",
      "Name: Embarked, dtype: int64\n",
      "Columns:  Index(['Survived', 'Sex', 'Age', 'SibSp', 'Parch', 'Fare', 'Cabin0',\n",
      "       'Embarked', 'Pclass'],\n",
      "      dtype='object') Survived      int64\n",
      "Sex           int64\n",
      "Age         float64\n",
      "SibSp         int64\n",
      "Parch         int64\n",
      "Fare        float64\n",
      "Cabin0        int32\n",
      "Embarked      int32\n",
      "Pclass        int64\n",
      "dtype: object\n",
      "          Survived       Sex       Age     SibSp     Parch      Fare  \\\n",
      "Survived  1.000000  0.543351 -0.077221 -0.035322  0.081629  0.257307   \n",
      "Sex       0.543351  1.000000 -0.093254  0.114631  0.245489  0.182333   \n",
      "Age      -0.077221 -0.093254  1.000000 -0.308247 -0.189119  0.096067   \n",
      "SibSp    -0.035322  0.114631 -0.308247  1.000000  0.414838  0.159651   \n",
      "Parch     0.081629  0.245489 -0.189119  0.414838  1.000000  0.216225   \n",
      "Fare      0.257307  0.182333  0.096067  0.159651  0.216225  1.000000   \n",
      "Cabin0   -0.295113 -0.118635 -0.267161  0.041058 -0.031553 -0.525742   \n",
      "Embarked -0.163517 -0.104057 -0.025252  0.066654  0.038322 -0.221226   \n",
      "Pclass   -0.338481 -0.131900 -0.369226  0.083081  0.018443 -0.549500   \n",
      "\n",
      "            Cabin0  Embarked    Pclass  \n",
      "Survived -0.295113 -0.163517 -0.338481  \n",
      "Sex      -0.118635 -0.104057 -0.131900  \n",
      "Age      -0.267161 -0.025252 -0.369226  \n",
      "SibSp     0.041058  0.066654  0.083081  \n",
      "Parch    -0.031553  0.038322  0.018443  \n",
      "Fare     -0.525742 -0.221226 -0.549500  \n",
      "Cabin0    1.000000  0.191973  0.742093  \n",
      "Embarked  0.191973  1.000000  0.157112  \n",
      "Pclass    0.742093  0.157112  1.000000  \n"
     ]
    },
    {
     "data": {
      "image/png": "[encoded data removed]",
      "text/plain": [
       "<Figure size 576x432 with 1 Axes>"
      ]
     },
     "metadata": {},
     "output_type": "display_data"
    },
    {
     "data": {
      "image/png": "[encoded data removed]",
      "text/plain": [
       "<Figure size 576x432 with 1 Axes>"
      ]
     },
     "metadata": {},
     "output_type": "display_data"
    }
   ],
   "source": [
    "# Datatypes: \n",
    "\n",
    "# Survived         int64 : Target\n",
    "# Pclass           int64 : Ticket class, High correlationg with Cabin0, hence removed\n",
    "# Age            float64 : Numeric, non-ordinal\n",
    "# SibSp            int64 : Numeric, number of siblings\n",
    "# Fare           float64 : Ordinal feature\n",
    "# Parch            int64 : # of parents / children aboard the Titanic, Numeric\n",
    "\n",
    "#  PassengerId      int64 : Removed, nominal feature\n",
    "# Name            object : Removed, nominal feature\n",
    "# Ticket          object : Ticket number, Removed\n",
    "\n",
    "# Sex             object : Gender, can be made boolean\n",
    "# Cabin0           object : Cabin number, categorical, New feature\n",
    "# Embarked        object : Port of Embarkation\n",
    "\n",
    "titanic_df = read_basic('train.csv')\n",
    "\n",
    "gender_ = {'male':0,'female':1}\n",
    "titanic_df['Sex'] = titanic_df['Sex'].replace(gender_)\n",
    "\n",
    "titanic_df['Cabin'] = titanic_df.Cabin.apply(lambda x:str(x).upper())\n",
    "titanic_df['Cabin0'] = titanic_df.Cabin.apply(lambda x:str(x)[0])\n",
    "\n",
    "label_ = LabelEncoder()\n",
    "label_cabin = label_.fit(titanic_df['Cabin0'])\n",
    "titanic_df['Cabin0'] = label_.transform(titanic_df['Cabin0'])\n",
    "\n",
    "label_ = LabelEncoder()\n",
    "titanic_df['Embarked'] = titanic_df['Embarked'].astype(np.str)\n",
    "label_embark = label_.fit(titanic_df['Embarked'])\n",
    "print(titanic_df['Embarked'].value_counts())\n",
    "titanic_df['Embarked'] = label_embark.transform(titanic_df['Embarked'])\n",
    "\n",
    "#Lets filter the dataframe\n",
    "titanic_df = titanic_df[['Survived', 'Sex', 'Age', 'SibSp', 'Parch', 'Fare', 'Cabin0', 'Embarked', 'Pclass']]\n",
    "\n",
    "cabin_wise = pd.crosstab(titanic_df.Cabin0, titanic_df.Survived)\n",
    "cabin_wise.plot(kind='barh',figsize=(8,6), legend=True, title='Cabin wise survival')\n",
    "\n",
    "embark_wise = pd.crosstab(titanic_df.Embarked, titanic_df.Survived)\n",
    "embark_wise.plot(kind='barh',figsize=(8,6), legend=True, title='Port of Embarkation')\n",
    "\n",
    "print('Columns: ', titanic_df.columns, titanic_df.dtypes)\n",
    "print(titanic_df.corr())"
   ]
  },
  {
   "cell_type": "code",
   "execution_count": 4,
   "metadata": {},
   "outputs": [],
   "source": [
    "# titanic_df.Fare = StandardScaler().fit_transform(titanic_df.Fare.values.reshape(-1,1))"
   ]
  },
  {
   "cell_type": "code",
   "execution_count": 5,
   "metadata": {},
   "outputs": [
    {
     "name": "stdout",
     "output_type": "stream",
     "text": [
      "<class 'pandas.core.frame.DataFrame'>\n",
      "RangeIndex: 891 entries, 0 to 890\n",
      "Data columns (total 9 columns):\n",
      "Survived    891 non-null int64\n",
      "Sex         891 non-null int64\n",
      "Age         714 non-null float64\n",
      "SibSp       891 non-null int64\n",
      "Parch       891 non-null int64\n",
      "Fare        891 non-null float64\n",
      "Cabin0      891 non-null int32\n",
      "Embarked    891 non-null int32\n",
      "Pclass      891 non-null int64\n",
      "dtypes: float64(2), int32(2), int64(5)\n",
      "memory usage: 55.8 KB\n"
     ]
    },
    {
     "data": {
      "image/png": "[encoded data removed]",
      "text/plain": [
       "<Figure size 432x288 with 1 Axes>"
      ]
     },
     "metadata": {},
     "output_type": "display_data"
    }
   ],
   "source": [
    "titanic_df.info()\n",
    "#Lets mutate Age to mean\n",
    "\n",
    "age_mean = np.mean(titanic_df.Age)\n",
    "fare_mean = np.mean(titanic_df.Fare)\n",
    "titanic_df[['Age']] = titanic_df[['Age']].fillna(0)\n",
    "titanic_df.Age.plot(kind='hist')\n",
    "\n",
    "titanic_df[titanic_df.Age.isna()].head(891-714).to_csv('age.csv')"
   ]
  },
  {
   "cell_type": "code",
   "execution_count": 6,
   "metadata": {},
   "outputs": [
    {
     "data": {
      "text/plain": [
       "<matplotlib.axes._subplots.AxesSubplot at 0x21e37c6a6d8>"
      ]
     },
     "execution_count": 6,
     "metadata": {},
     "output_type": "execute_result"
    },
    {
     "data": {
      "image/png": "[encoded data removed]",
      "text/plain": [
       "<Figure size 432x288 with 1 Axes>"
      ]
     },
     "metadata": {},
     "output_type": "display_data"
    }
   ],
   "source": [
    "titanic_df['Survived'].value_counts().plot(kind='pie',legend=True)"
   ]
  },
  {
   "cell_type": "code",
   "execution_count": 7,
   "metadata": {},
   "outputs": [],
   "source": [
    "titanic_df_X = titanic_df.iloc[:,1:]\n",
    "titanic_df_Y = titanic_df.iloc[:,0]\n",
    "# print(type(titanic_df_X), type(titanic_df_Y))"
   ]
  },
  {
   "cell_type": "code",
   "execution_count": 8,
   "metadata": {},
   "outputs": [
    {
     "data": {
      "text/html": [
       "<div>\n",
       "<style scoped>\n",
       "    .dataframe tbody tr th:only-of-type {\n",
       "        vertical-align: middle;\n",
       "    }\n",
       "\n",
       "    .dataframe tbody tr th {\n",
       "        vertical-align: top;\n",
       "    }\n",
       "\n",
       "    .dataframe thead th {\n",
       "        text-align: right;\n",
       "    }\n",
       "</style>\n",
       "<table border=\"1\" class=\"dataframe\">\n",
       "  <thead>\n",
       "    <tr style=\"text-align: right;\">\n",
       "      <th></th>\n",
       "      <th>Sex</th>\n",
       "      <th>Age</th>\n",
       "      <th>SibSp</th>\n",
       "      <th>Parch</th>\n",
       "      <th>Fare</th>\n",
       "      <th>Cabin0</th>\n",
       "      <th>Embarked</th>\n",
       "      <th>Pclass</th>\n",
       "    </tr>\n",
       "  </thead>\n",
       "  <tbody>\n",
       "    <tr>\n",
       "      <th>0</th>\n",
       "      <td>0</td>\n",
       "      <td>22.0</td>\n",
       "      <td>1</td>\n",
       "      <td>0</td>\n",
       "      <td>7.2500</td>\n",
       "      <td>7</td>\n",
       "      <td>2</td>\n",
       "      <td>3</td>\n",
       "    </tr>\n",
       "    <tr>\n",
       "      <th>1</th>\n",
       "      <td>1</td>\n",
       "      <td>38.0</td>\n",
       "      <td>1</td>\n",
       "      <td>0</td>\n",
       "      <td>71.2833</td>\n",
       "      <td>2</td>\n",
       "      <td>0</td>\n",
       "      <td>1</td>\n",
       "    </tr>\n",
       "    <tr>\n",
       "      <th>2</th>\n",
       "      <td>1</td>\n",
       "      <td>26.0</td>\n",
       "      <td>0</td>\n",
       "      <td>0</td>\n",
       "      <td>7.9250</td>\n",
       "      <td>7</td>\n",
       "      <td>2</td>\n",
       "      <td>3</td>\n",
       "    </tr>\n",
       "    <tr>\n",
       "      <th>3</th>\n",
       "      <td>1</td>\n",
       "      <td>35.0</td>\n",
       "      <td>1</td>\n",
       "      <td>0</td>\n",
       "      <td>53.1000</td>\n",
       "      <td>2</td>\n",
       "      <td>2</td>\n",
       "      <td>1</td>\n",
       "    </tr>\n",
       "    <tr>\n",
       "      <th>4</th>\n",
       "      <td>0</td>\n",
       "      <td>35.0</td>\n",
       "      <td>0</td>\n",
       "      <td>0</td>\n",
       "      <td>8.0500</td>\n",
       "      <td>7</td>\n",
       "      <td>2</td>\n",
       "      <td>3</td>\n",
       "    </tr>\n",
       "  </tbody>\n",
       "</table>\n",
       "</div>"
      ],
      "text/plain": [
       "   Sex   Age  SibSp  Parch     Fare  Cabin0  Embarked  Pclass\n",
       "0    0  22.0      1      0   7.2500       7         2       3\n",
       "1    1  38.0      1      0  71.2833       2         0       1\n",
       "2    1  26.0      0      0   7.9250       7         2       3\n",
       "3    1  35.0      1      0  53.1000       2         2       1\n",
       "4    0  35.0      0      0   8.0500       7         2       3"
      ]
     },
     "execution_count": 8,
     "metadata": {},
     "output_type": "execute_result"
    }
   ],
   "source": [
    "\n",
    "titanic_df_X.head()"
   ]
  },
  {
   "cell_type": "code",
   "execution_count": 9,
   "metadata": {},
   "outputs": [],
   "source": [
    "#Trying a Linear Regression\n",
    "from sklearn.model_selection import train_test_split\n",
    "# X_train, X_test, y_train, y_test = train_test_split(titanic_df_X, titanic_df_Y, test_size=0.3, random_state=0)\n",
    "titanic_df_X.drop(['SibSp', 'Parch','Embarked'], axis=1, inplace=True)\n",
    "# print(titanic_df_X.columns)\n",
    "\n",
    "# *****SMOTE USE*****\n",
    "\n",
    "# sm = SMOTE(random_state=2)\n",
    "# print(titanic_df_Y)\n",
    "# titanic_df_X, titanic_df_Y = sm.fit_sample(titanic_df_X, titanic_df_Y.values)\n",
    "\n",
    "# titanic_df_X = pd.DataFrame(titanic_df_X, columns=['Sex', 'Age', 'Fare', 'Cabin0', 'Pclass'])\n",
    "# titanic_df_Y = pd.DataFrame(titanic_df_Y, columns=['Survived'])\n",
    "# titanic_df_X.head()"
   ]
  },
  {
   "cell_type": "code",
   "execution_count": null,
   "metadata": {},
   "outputs": [],
   "source": []
  },
  {
   "cell_type": "code",
   "execution_count": 10,
   "metadata": {},
   "outputs": [
    {
     "data": {
      "text/plain": [
       "<matplotlib.axes._subplots.AxesSubplot at 0x21e39d990f0>"
      ]
     },
     "execution_count": 10,
     "metadata": {},
     "output_type": "execute_result"
    },
    {
     "data": {
      "image/png": "[encoded data removed]",
      "text/plain": [
       "<Figure size 432x288 with 1 Axes>"
      ]
     },
     "metadata": {},
     "output_type": "display_data"
    }
   ],
   "source": [
    "# titanic_df.plot(x='Age', y='Fare', kind='scatter',figsize=(12,8))\n",
    "titanic_df['FareBin'] = pd.cut(titanic_df.Fare,bins=4) \n",
    "age_approx = titanic_df.groupby('FareBin')['Age'].mean()\n",
    "age_approx.plot(kind='bar')"
   ]
  },
  {
   "cell_type": "code",
   "execution_count": 11,
   "metadata": {},
   "outputs": [
    {
     "data": {
      "text/plain": [
       "LogisticRegression(C=1.0, class_weight=None, dual=False, fit_intercept=True,\n",
       "                   intercept_scaling=1, l1_ratio=None, max_iter=100,\n",
       "                   multi_class='warn', n_jobs=None, penalty='l2',\n",
       "                   random_state=None, solver='warn', tol=0.0001, verbose=0,\n",
       "                   warm_start=False)"
      ]
     },
     "execution_count": 11,
     "metadata": {},
     "output_type": "execute_result"
    }
   ],
   "source": [
    "#Base\n",
    "type(titanic_df_Y)\n",
    "# titanic_df_Y.Survived.value_counts()/len(titanic_df_Y)\n",
    "\n",
    "titanic_df_X = titanic_df_X[['Sex', 'Age', 'Fare']]\n",
    "\n",
    "model_lr = LogisticRegression()\n",
    "model_lr.fit(titanic_df_X, titanic_df_Y)\n",
    "\n",
    "#Base random guess accuracy is 61 percent"
   ]
  },
  {
   "cell_type": "code",
   "execution_count": 12,
   "metadata": {},
   "outputs": [
    {
     "name": "stdout",
     "output_type": "stream",
     "text": [
      "   Sex   Age     Fare\n",
      "0    0  22.0   7.2500\n",
      "1    1  38.0  71.2833\n",
      "2    1  26.0   7.9250\n",
      "3    1  35.0  53.1000\n",
      "4    0  35.0   8.0500\n"
     ]
    },
    {
     "data": {
      "text/plain": [
       "0.7822287481557145"
      ]
     },
     "execution_count": 12,
     "metadata": {},
     "output_type": "execute_result"
    }
   ],
   "source": [
    "scaler_= StandardScaler()\n",
    "print(titanic_df_X.head())\n",
    "scores = cross_val_score(model_lr, titanic_df_X, titanic_df_Y, cv=10)\n",
    "scores.mean()"
   ]
  },
  {
   "cell_type": "code",
   "execution_count": 13,
   "metadata": {},
   "outputs": [
    {
     "name": "stdout",
     "output_type": "stream",
     "text": [
      "0.8081228010441495\n"
     ]
    }
   ],
   "source": [
    "# for d in range(1,100):\n",
    "model_dt = RandomForestClassifier(n_estimators=100, random_state=0, max_depth=12)\n",
    "model_dt.fit(titanic_df_X, titanic_df_Y)\n",
    "scores = cross_val_score(model_dt, titanic_df_X, titanic_df_Y, cv=10)\n",
    "print('{}'.format(scores.mean()))\n",
    "# ?cross_val_score"
   ]
  },
  {
   "cell_type": "code",
   "execution_count": 14,
   "metadata": {},
   "outputs": [
    {
     "name": "stdout",
     "output_type": "stream",
     "text": [
      "0.6925011349449551\n"
     ]
    }
   ],
   "source": [
    "model_svm = SVC(C=10)\n",
    "scores = cross_val_score(model_svm, titanic_df_X, titanic_df_Y, cv=10)\n",
    "print('{}'.format(scores.mean()))"
   ]
  },
  {
   "cell_type": "code",
   "execution_count": 15,
   "metadata": {},
   "outputs": [],
   "source": [
    "def my_pipe(titanic_df):\n",
    "#     print(titanic_df.head())\n",
    "    gender_ = {'male':0,'female':1}\n",
    "    titanic_df['Sex'] = titanic_df['Sex'].replace(gender_)\n",
    "    \n",
    "    titanic_df['Cabin'] = titanic_df.Cabin.apply(lambda x:str(x).upper())\n",
    "    titanic_df['Cabin0'] = titanic_df.Cabin.apply(lambda x:str(x)[0])\n",
    "    titanic_df['Cabin0'] = label_cabin.fit_transform(titanic_df['Cabin0'])\n",
    "    \n",
    "    titanic_df['Embarked'] = titanic_df['Embarked'].astype(np.str)\n",
    "    titanic_df['Embarked'] = label_embark.fit_transform(titanic_df['Embarked'])\n",
    "\n",
    "    #Lets filter the dataframe\n",
    "    titanic_df = titanic_df[['Sex', 'Age', 'SibSp', 'Parch', 'Fare', 'Cabin0', 'Embarked','Pclass']]\n",
    "\n",
    "    titanic_df[['Age']] = titanic_df[['Age']].fillna(value= 0)\n",
    "    titanic_df[['Fare']] = titanic_df[['Fare']].fillna(value= fare_mean)\n",
    "    \n",
    "#     titanic_df.Fare = StandardScaler().fit_transform(titanic_df.Fare.values.reshape(-1,1))\n",
    "    \n",
    "    titanic_df_X = titanic_df.iloc[:,:]\n",
    "#     titanic_df_X.Age = pd.cut(titanic_df_X.Age, bins=[0,20,40,60,100], labels=['young','adult','mature','old'])\n",
    "#     titanic_df_X.Age = LabelEncoder().fit_transform(titanic_df_X.Age)\n",
    "#     titanic_df_X.Fare = titanic_df_X.Fare.apply(np.log10)\n",
    "    titanic_df_X.drop(['SibSp', 'Parch','Embarked'], axis=1, inplace=True)\n",
    "    \n",
    "    titanic_df_X = titanic_df_X[['Sex', 'Age', 'Fare']]\n",
    "    return titanic_df_X.copy()"
   ]
  },
  {
   "cell_type": "code",
   "execution_count": 16,
   "metadata": {},
   "outputs": [
    {
     "name": "stdout",
     "output_type": "stream",
     "text": [
      "   Sex   Age     Fare\n",
      "0    0  34.5   7.8292\n",
      "1    1  47.0   7.0000\n",
      "2    0  62.0   9.6875\n",
      "3    0  27.0   8.6625\n",
      "4    1  22.0  12.2875\n"
     ]
    }
   ],
   "source": [
    "titanic_df_test = pd.read_csv('test.csv')\n",
    "titanic_df_test_X = my_pipe(titanic_df_test)\n",
    "print(titanic_df_test_X.head())\n"
   ]
  },
  {
   "cell_type": "code",
   "execution_count": 17,
   "metadata": {},
   "outputs": [
    {
     "name": "stdout",
     "output_type": "stream",
     "text": [
      "0\n"
     ]
    }
   ],
   "source": [
    "titanic_df_test_X.isna().sum()\n",
    "print(titanic_df_test_X.Fare.isna().sum())\n",
    "predicted = model_lr.predict(titanic_df_test_X)"
   ]
  },
  {
   "cell_type": "code",
   "execution_count": 18,
   "metadata": {},
   "outputs": [
    {
     "name": "stdout",
     "output_type": "stream",
     "text": [
      "Saved file: titanic_submission_2.csv\n"
     ]
    }
   ],
   "source": [
    "titanic_df_test_X.isna().sum()\n",
    "# print(titanic_df_test_X.shape)\n",
    "predicted = model_dt.predict(titanic_df_test_X)\n",
    "titanic_df_submit = pd.DataFrame({'PassengerId': titanic_df_test['PassengerId'],'Survived':  predicted})\n",
    "\n",
    "filename = 'titanic_submission_2.csv'\n",
    "titanic_df_submit.to_csv(filename,index=False)\n",
    "print('Saved file: ' + filename)"
   ]
  },
  {
   "cell_type": "code",
   "execution_count": 19,
   "metadata": {},
   "outputs": [
    {
     "name": "stdout",
     "output_type": "stream",
     "text": [
      "['Sex', 'Age', 'Fare']\n"
     ]
    },
    {
     "data": {
      "text/plain": [
       "[(0.44291158991161317, 'Fare'),\n",
       " (0.2907551066429317, 'Sex'),\n",
       " (0.2663333034454551, 'Age')]"
      ]
     },
     "execution_count": 19,
     "metadata": {},
     "output_type": "execute_result"
    }
   ],
   "source": [
    "feat = titanic_df_X.columns.tolist()\n",
    "feat_score = model_dt.feature_importances_.tolist()\n",
    "print(feat)\n",
    "sorted(zip(feat_score,feat), reverse=True)"
   ]
  },
  {
   "cell_type": "code",
   "execution_count": 20,
   "metadata": {},
   "outputs": [],
   "source": [
    "# titanic_df_X.Age = pd.cut(titanic_df_X.Age, bins=[0,20,40,60,100], labels=['young','adult','mature','old'])"
   ]
  },
  {
   "cell_type": "code",
   "execution_count": 21,
   "metadata": {
    "scrolled": true
   },
   "outputs": [],
   "source": [
    "# titanic_df_X.Age = label_.fit_transform(titanic_df_X.Age)\n",
    "# titanic_df_X.Age.value_counts()"
   ]
  },
  {
   "cell_type": "code",
   "execution_count": 22,
   "metadata": {},
   "outputs": [],
   "source": [
    "#Fare Normalization:\n",
    "# titanic_df_X.Fare = titanic_df_X.Fare.apply(np.log10)\n",
    "# titanic_df_X.Fare"
   ]
  },
  {
   "cell_type": "code",
   "execution_count": 23,
   "metadata": {},
   "outputs": [
    {
     "name": "stdout",
     "output_type": "stream",
     "text": [
      "Sex     0.0\n",
      "Age     0.0\n",
      "Fare    0.0\n",
      "dtype: float64\n",
      "0.7643684434320748\n"
     ]
    }
   ],
   "source": [
    "# for d in range(1,100):\n",
    "# for x in range(1000,2000,1000):\n",
    "print(titanic_df_X.min())\n",
    "model_dt = DecisionTreeClassifier(max_depth=20, criterion='entropy')\n",
    "model_dt.fit(titanic_df_X, titanic_df_Y)\n",
    "scores = cross_val_score(model_dt, titanic_df_X, titanic_df_Y, cv=5)\n",
    "print('{}'.format( scores.mean()))\n",
    "\n",
    "#     print(classification_report(titanic_df_Y, model_dt.predict(titanic_df_X)))\n",
    "#     print(roc_auc_score(titanic_df_Y, model_dt.predict(titanic_df_X)))"
   ]
  },
  {
   "cell_type": "code",
   "execution_count": 24,
   "metadata": {},
   "outputs": [
    {
     "data": {
      "text/plain": [
       "array([0.23939253, 0.30889666, 0.4517108 ])"
      ]
     },
     "execution_count": 24,
     "metadata": {},
     "output_type": "execute_result"
    }
   ],
   "source": [
    "model_dt.feature_importances_"
   ]
  },
  {
   "cell_type": "code",
   "execution_count": 25,
   "metadata": {},
   "outputs": [
    {
     "name": "stdout",
     "output_type": "stream",
     "text": [
      "0.7811159495380325\n",
      "              precision    recall  f1-score   support\n",
      "\n",
      "           0       0.81      0.84      0.83       549\n",
      "           1       0.73      0.69      0.71       342\n",
      "\n",
      "    accuracy                           0.78       891\n",
      "   macro avg       0.77      0.76      0.77       891\n",
      "weighted avg       0.78      0.78      0.78       891\n",
      "\n",
      "0.7643322787843927\n"
     ]
    }
   ],
   "source": [
    "model_lr = LogisticRegression()\n",
    "model_lr.fit(titanic_df_X, titanic_df_Y)\n",
    "scores = cross_val_score(model_lr, titanic_df_X, titanic_df_Y, cv=5)\n",
    "print('{}'.format(scores.mean()))\n",
    "\n",
    "print(classification_report(titanic_df_Y, model_lr.predict(titanic_df_X)))\n",
    "print(roc_auc_score(titanic_df_Y, model_lr.predict(titanic_df_X)))"
   ]
  },
  {
   "cell_type": "code",
   "execution_count": 26,
   "metadata": {},
   "outputs": [],
   "source": [
    "# model_svm = SVC(C=1000000)\n",
    "# model_svm.fit(titanic_df_X, titanic_df_Y)\n",
    "# scores = cross_val_score(model_svm, titanic_df_X, titanic_df_Y, cv=5)\n",
    "# print('{}'.format(scores.mean()))\n",
    "\n",
    "# print(classification_report(titanic_df_Y, model_svm.predict(titanic_df_X)))\n",
    "# print(roc_auc_score(titanic_df_Y, model_svm.predict(titanic_df_X)))"
   ]
  },
  {
   "cell_type": "code",
   "execution_count": 27,
   "metadata": {},
   "outputs": [],
   "source": [
    "# titanic_df_test_X.isna().sum()\n",
    "# # print(titanic_df_test_X.shape)\n",
    "# predicted = model_svm.predict(titanic_df_test_X)\n",
    "# titanic_df_submit = pd.DataFrame({'PassengerId': titanic_df_test['PassengerId'],'Survived':  predicted})\n",
    "\n",
    "# filename = 'titanic_submission_3.csv'\n",
    "# titanic_df_submit.to_csv(filename,index=False)\n",
    "# print('Saved file: ' + filename)"
   ]
  },
  {
   "cell_type": "code",
   "execution_count": 28,
   "metadata": {},
   "outputs": [],
   "source": [
    "# for x in range(1000,6000,1000):\n",
    "#     model_ada = AdaBoostClassifier(n_estimators=x)\n",
    "#     model_ada.fit(titanic_df_X, titanic_df_Y)\n",
    "#     scores = cross_val_score(model_ada, titanic_df_X, titanic_df_Y, cv=5)\n",
    "#     print('{}: {}'.format(x, scores.mean()))\n",
    "#     print(classification_report(titanic_df_Y, model_ada.predict(titanic_df_X)))\n",
    "#     print(roc_auc_score(titanic_df_Y, model_ada.predict(titanic_df_X)))"
   ]
  },
  {
   "cell_type": "code",
   "execution_count": 29,
   "metadata": {},
   "outputs": [
    {
     "name": "stdout",
     "output_type": "stream",
     "text": [
      "Counter({0: 549, 1: 342})\n"
     ]
    }
   ],
   "source": [
    "titanic_df_test_X.head()\n",
    "from collections import Counter\n",
    "print(Counter(titanic_df_Y))"
   ]
  },
  {
   "cell_type": "code",
   "execution_count": 30,
   "metadata": {},
   "outputs": [
    {
     "name": "stdout",
     "output_type": "stream",
     "text": [
      "0.7968585570470393\n"
     ]
    }
   ],
   "source": [
    "model_ada = AdaBoostClassifier(n_estimators=1000)\n",
    "model_ada.fit(titanic_df_X, titanic_df_Y)\n",
    "scores = cross_val_score(model_ada, titanic_df_X, titanic_df_Y, cv=5)\n",
    "print('{}'.format(scores.mean()))"
   ]
  },
  {
   "cell_type": "code",
   "execution_count": 31,
   "metadata": {},
   "outputs": [
    {
     "name": "stdout",
     "output_type": "stream",
     "text": [
      "Sex     0\n",
      "Age     0\n",
      "Fare    0\n",
      "dtype: int64\n",
      "   Sex   Age     Fare\n",
      "0    0  34.5   7.8292\n",
      "1    1  47.0   7.0000\n",
      "2    0  62.0   9.6875\n",
      "3    0  27.0   8.6625\n",
      "4    1  22.0  12.2875\n",
      "Saved file: titanic_submission_3.csv\n"
     ]
    }
   ],
   "source": [
    "print(titanic_df_test_X.isna().sum())\n",
    "print(titanic_df_test_X.head())\n",
    "predicted = model_ada.predict(titanic_df_test_X)\n",
    "titanic_df_submit = pd.DataFrame({'PassengerId': titanic_df_test['PassengerId'],'Survived':  predicted})\n",
    "\n",
    "filename = 'titanic_submission_3.csv'\n",
    "titanic_df_submit.to_csv(filename,index=False)\n",
    "print('Saved file: ' + filename)"
   ]
  },
  {
   "cell_type": "code",
   "execution_count": null,
   "metadata": {},
   "outputs": [],
   "source": []
  },
  {
   "cell_type": "code",
   "execution_count": 32,
   "metadata": {},
   "outputs": [],
   "source": [
    "# titanic_df_Y['Survived'].ravel()[4]"
   ]
  },
  {
   "cell_type": "code",
   "execution_count": null,
   "metadata": {},
   "outputs": [],
   "source": [
    "#Suppress Warninings\n",
    "import warnings\n",
    "warnings.filterwarnings('ignore')\n",
    "\n",
    "\n",
    "#Machine Learning Algorithm (MLA) Selection and Initialization\n",
    "from sklearn import ensemble, linear_model, naive_bayes, svm, tree, discriminant_analysis, gaussian_process, neighbors\n",
    "from sklearn import model_selection\n",
    "from xgboost import XGBClassifier\n",
    "\n",
    "MLA = [\n",
    "    #Ensemble Methods\n",
    "    ensemble.AdaBoostClassifier(),\n",
    "    ensemble.BaggingClassifier(),\n",
    "    ensemble.ExtraTreesClassifier(),\n",
    "    ensemble.GradientBoostingClassifier(n_estimators=200),\n",
    "    ensemble.RandomForestClassifier(),\n",
    "\n",
    "    #Gaussian Processes\n",
    "    gaussian_process.GaussianProcessClassifier(),\n",
    "    \n",
    "    #GLM\n",
    "    linear_model.LogisticRegressionCV(),\n",
    "    linear_model.PassiveAggressiveClassifier(),\n",
    "    linear_model.RidgeClassifierCV(),\n",
    "    linear_model.SGDClassifier(),\n",
    "    linear_model.Perceptron(),\n",
    "    \n",
    "    #Navies Bayes\n",
    "    naive_bayes.BernoulliNB(),\n",
    "    naive_bayes.GaussianNB(),\n",
    "    \n",
    "    #Nearest Neighbor\n",
    "    neighbors.KNeighborsClassifier(),\n",
    "    \n",
    "    #SVM\n",
    "    svm.SVC(probability=True),\n",
    "    svm.NuSVC(probability=True),\n",
    "    svm.LinearSVC(),\n",
    "    \n",
    "    #Trees    \n",
    "    tree.DecisionTreeClassifier(),\n",
    "    tree.ExtraTreeClassifier(),\n",
    "    \n",
    "    #Discriminant Analysis\n",
    "    discriminant_analysis.LinearDiscriminantAnalysis(),\n",
    "    discriminant_analysis.QuadraticDiscriminantAnalysis(),\n",
    "\n",
    "    \n",
    "    #xgboost: http://xgboost.readthedocs.io/en/latest/model.html\n",
    "    XGBClassifier()    \n",
    "    ]\n",
    "\n",
    "\n",
    "\n",
    "#split dataset in cross-validation with this splitter class: http://scikit-learn.org/stable/modules/generated/sklearn.model_selection.ShuffleSplit.html#sklearn.model_selection.ShuffleSplit\n",
    "#note: this is an alternative to train_test_split\n",
    "#create table to compare MLA metrics\n",
    "MLA_columns = ['MLA Name', 'MLA Parameters', 'MLA Test Accuracy Mean', 'MLA Test Accuracy 3*STD' ,'MLA Time']\n",
    "MLA_compare = pd.DataFrame(columns = MLA_columns)\n",
    "\n",
    "#create table to compare MLA predictions\n",
    "MLA_predict = pd.DataFrame()\n",
    "\n",
    "cv_split = model_selection.ShuffleSplit(n_splits = 5, test_size = .2, train_size = .8, random_state = 0 ) \n",
    "# run model 10x with 60/30 split intentionally leaving out 10%\n",
    "\n",
    "#index through MLA and save performance to table\n",
    "row_index = 0\n",
    "for alg in MLA:\n",
    "\n",
    "    #set name and parameters\n",
    "    MLA_name = alg.__class__.__name__\n",
    "    MLA_compare.loc[row_index, 'MLA Name'] = MLA_name\n",
    "    MLA_compare.loc[row_index, 'MLA Parameters'] = str(alg.get_params())\n",
    "    \n",
    "    #score model with cross validation: http://scikit-learn.org/stable/modules/generated/sklearn.model_selection.cross_validate.html#sklearn.model_selection.cross_validate\n",
    "    cv_results = model_selection.cross_validate(alg, titanic_df_X, titanic_df_Y, cv  = cv_split)\n",
    "#     print(cv_results)\n",
    "    MLA_compare.loc[row_index, 'MLA Time'] = cv_results['fit_time'].mean()\n",
    "#     MLA_compare.loc[row_index, 'MLA Train Accuracy Mean'] = cv_results['train_score'].mean()\n",
    "    MLA_compare.loc[row_index, 'MLA Test Accuracy Mean'] = cv_results['test_score'].mean()   \n",
    "    #if this is a non-bias random sample, then +/-3 standard deviations (std) from the mean, should statistically capture 99.7% of the subsets\n",
    "    MLA_compare.loc[row_index, 'MLA Test Accuracy 3*STD'] = cv_results['test_score'].std()*3   #let's know the worst that can happen!\n",
    "    \n",
    "\n",
    "    #save MLA predictions - see section 6 for usage\n",
    "    alg.fit(titanic_df_X, titanic_df_Y)\n",
    "    row_index+=1\n",
    "    MLA_predict[MLA_name] = alg.predict(titanic_df_test_X)\n",
    "    \n",
    "#print and sort table: https://pandas.pydata.org/pandas-docs/stable/generated/pandas.DataFrame.sort_values.html\n",
    "MLA_compare.sort_values(by = ['MLA Test Accuracy Mean'], ascending = False, inplace = True)\n",
    "MLA_compare"
   ]
  },
  {
   "cell_type": "code",
   "execution_count": null,
   "metadata": {},
   "outputs": [],
   "source": [
    "print(MLA_compare.loc[3]['MLA Parameters'])"
   ]
  },
  {
   "cell_type": "code",
   "execution_count": null,
   "metadata": {},
   "outputs": [],
   "source": [
    "# titanic_df_test_X.isna().sum()\n",
    "\n",
    "model_xgb = MLA[3]\n",
    "\n",
    "print(titanic_df_test_X.head())\n",
    "predicted = model_xgb.predict(titanic_df_test_X)\n",
    "titanic_df_submit = pd.DataFrame({'PassengerId': titanic_df_test['PassengerId'],'Survived':  predicted})\n",
    "\n",
    "filename = 'titanic_submission_xgb.csv'\n",
    "titanic_df_submit.to_csv(filename,index=False)\n",
    "print('Saved file: ' + filename)"
   ]
  },
  {
   "cell_type": "code",
   "execution_count": null,
   "metadata": {},
   "outputs": [],
   "source": [
    "#Best Kaggle score: 0.76"
   ]
  },
  {
   "cell_type": "code",
   "execution_count": null,
   "metadata": {},
   "outputs": [],
   "source": [
    "plt.close()\n",
    "\n",
    "#barplot using https://seaborn.pydata.org/generated/seaborn.barplot.html\n",
    "plt.figure(figsize=(12,8))\n",
    "sb.barplot(x='MLA Test Accuracy Mean', y = 'MLA Name', data = MLA_compare, color = 'g')\n",
    "#prettify using pyplot: https://matplotlib.org/api/pyplot_api.html\n",
    "plt.title('Machine Learning Algorithm Accuracy Score \\n')\n",
    "plt.xlabel('Accuracy Score (%)')\n",
    "plt.ylabel('Algorithm')\n"
   ]
  },
  {
   "cell_type": "code",
   "execution_count": null,
   "metadata": {},
   "outputs": [],
   "source": [
    "MLA_compare = MLA_compare.reset_index().set_index('MLA Name')\n",
    "MLA_compare.drop('index', axis=1,inplace=True)\n",
    "MLA_compare"
   ]
  },
  {
   "cell_type": "code",
   "execution_count": null,
   "metadata": {},
   "outputs": [],
   "source": [
    "#correlation heatmap of dataset\n",
    "def correlation_heatmap(df):\n",
    "    _ , ax = plt.subplots(figsize =(14, 12))\n",
    "    colormap = sb.diverging_palette(220, 10, as_cmap = True)\n",
    "    \n",
    "    _ = sb.heatmap(\n",
    "        df.corr(), \n",
    "        cmap = colormap,\n",
    "        square=True, \n",
    "        cbar_kws={'shrink':.9 }, \n",
    "        ax=ax,\n",
    "        annot=True, \n",
    "        linewidths=0.1,vmax=1.0, linecolor='white',\n",
    "        annot_kws={'fontsize':12 }\n",
    "    )\n",
    "    \n",
    "    plt.title('Pearson Correlation of Features', y=1.05, size=15)\n",
    "    return df.corr()\n",
    "\n",
    "ml_alg_corr = correlation_heatmap(MLA_predict)"
   ]
  },
  {
   "cell_type": "code",
   "execution_count": null,
   "metadata": {},
   "outputs": [],
   "source": [
    "my_list= list()\n",
    "for x in ml_alg_corr.index:\n",
    "    for y in ml_alg_corr.index:\n",
    "        if(ml_alg_corr.loc[x,y]<=0.1):\n",
    "            my_list.append(tuple([x,y]))\n",
    "#             my_list.append(x)"
   ]
  },
  {
   "cell_type": "code",
   "execution_count": null,
   "metadata": {},
   "outputs": [],
   "source": [
    "my_list_ref = [x[0] for x in my_list]\n",
    "sorted(list(set(my_list_ref)))"
   ]
  },
  {
   "cell_type": "code",
   "execution_count": null,
   "metadata": {},
   "outputs": [],
   "source": [
    "#why choose one model, when you can pick them all with voting classifier\n",
    "#http://scikit-learn.org/stable/modules/generated/sklearn.ensemble.VotingClassifier.html\n",
    "#removed models w/o attribute 'predict_proba' required for vote classifier and models with a 1.0 correlation to another model\n",
    "vote_est = [\n",
    "    #Ensemble Methods: http://scikit-learn.org/stable/modules/ensemble.html\n",
    "    \n",
    "    ('gbc', ensemble.GradientBoostingClassifier()),\n",
    "    \n",
    "    ('rfc', ensemble.RandomForestClassifier()),\n",
    "    #Nearest Neighbor: http://scikit-learn.org/stable/modules/neighbors.html\n",
    "    ('knn', neighbors.KNeighborsClassifier()),\n",
    "    \n",
    "    #SVM: http://scikit-learn.org/stable/modules/svm.html\n",
    "    ('svc', svm.SVC(probability=True)),\n",
    "    \n",
    "    #xgboost: http://xgboost.readthedocs.io/en/latest/model.html\n",
    "   ('xgb', XGBClassifier()),\n",
    "\n",
    "\n",
    "]\n",
    "\n",
    "\n",
    "#Hard Vote or majority rules\n",
    "vote_hard = ensemble.VotingClassifier(estimators = vote_est , voting = 'hard')\n",
    "vote_hard_cv = model_selection.cross_validate(vote_hard, titanic_df_X, titanic_df_Y, cv  = cv_split)\n",
    "vote_hard.fit(titanic_df_X, titanic_df_Y)\n",
    "\n",
    "# print(\"Hard Voting Training w/bin score mean: {:.2f}\". format(vote_hard_cv['train_score'].mean()*100)) \n",
    "print(\"Hard Voting Test w/bin score mean: {:.2f}\". format(vote_hard_cv['test_score'].mean()*100))\n",
    "print(\"Hard Voting Test w/bin score 3*std: +/- {:.2f}\". format(vote_hard_cv['test_score'].std()*100*3))\n",
    "print('-'*10)\n",
    "\n",
    "\n",
    "#Soft Vote or weighted probabilities\n",
    "vote_soft = ensemble.VotingClassifier(estimators = vote_est , voting = 'soft')\n",
    "vote_soft_cv = model_selection.cross_validate(vote_soft, titanic_df_X, titanic_df_Y, cv  = cv_split)\n",
    "vote_soft.fit(titanic_df_X, titanic_df_Y)\n",
    "\n",
    "# print(\"Soft Voting Training w/bin score mean: {:.2f}\". format(vote_soft_cv['train_score'].mean()*100)) \n",
    "print(\"Soft Voting Test w/bin score mean: {:.2f}\". format(vote_soft_cv['test_score'].mean()*100))\n",
    "print(\"Soft Voting Test w/bin score 3*std: +/- {:.2f}\". format(vote_soft_cv['test_score'].std()*100*3))\n",
    "print('-'*10)"
   ]
  },
  {
   "cell_type": "code",
   "execution_count": null,
   "metadata": {},
   "outputs": [],
   "source": [
    "# titanic_df_test_X.isna().sum()\n",
    "\n",
    "# model_xgb = MLA[3]\n",
    "\n",
    "print(titanic_df_test_X.head())\n",
    "predicted = vote_hard.predict(titanic_df_test_X)\n",
    "titanic_df_submit = pd.DataFrame({'PassengerId': titanic_df_test['PassengerId'],'Survived':  predicted})\n",
    "\n",
    "filename = 'titanic_submission_hard_voting.csv'\n",
    "titanic_df_submit.to_csv(filename,index=False)\n",
    "print('Saved file: ' + filename)"
   ]
  },
  {
   "cell_type": "code",
   "execution_count": null,
   "metadata": {},
   "outputs": [],
   "source": [
    "# titanic_df_test_X.isna().sum()\n",
    "\n",
    "# model_xgb = MLA[3]\n",
    "\n",
    "print(titanic_df_test_X.head())\n",
    "predicted = vote_soft.predict(titanic_df_test_X)\n",
    "titanic_df_submit = pd.DataFrame({'PassengerId': titanic_df_test['PassengerId'],'Survived':  predicted})\n",
    "\n",
    "filename = 'titanic_submission_sft_voting.csv'\n",
    "titanic_df_submit.to_csv(filename,index=False)\n",
    "print('Saved file: ' + filename)"
   ]
  },
  {
   "cell_type": "code",
   "execution_count": null,
   "metadata": {},
   "outputs": [],
   "source": [
    "#Grid Search\n",
    "import time\n",
    "#Code is written for experimental/developmental purposes and not production ready!\n",
    "\n",
    "#Hyperparameter Tune with GridSearchCV: http://scikit-learn.org/stable/modules/generated/sklearn.model_selection.GridSearchCV.html\n",
    "grid_n_estimator = [10, 50, 100, 300]\n",
    "grid_ratio = [.1, .25, .5, .75, 1.0]\n",
    "grid_learn = [.01, .03, .05, .1, .25]\n",
    "grid_max_depth = [2, 4, 6, 8, 10, None]\n",
    "grid_min_samples = [5, 10, .03, .05, .10]\n",
    "grid_criterion = ['gini', 'entropy']\n",
    "grid_bool = [True, False]\n",
    "grid_seed = [0]\n",
    "\n",
    "\n",
    "grid_param = [\n",
    "\n",
    "            [{\n",
    "            #GradientBoostingClassifier - http://scikit-learn.org/stable/modules/generated/sklearn.ensemble.GradientBoostingClassifier.html#sklearn.ensemble.GradientBoostingClassifier\n",
    "            #'loss': ['deviance', 'exponential'], #default=’deviance’\n",
    "            'learning_rate': [.05], #default=0.1 -- 12/31/17 set to reduce runtime -- The best parameter for GradientBoostingClassifier is {'learning_rate': 0.05, 'max_depth': 2, 'n_estimators': 300, 'random_state': 0} with a runtime of 264.45 seconds.\n",
    "            'n_estimators': [300], #default=100 -- 12/31/17 set to reduce runtime -- The best parameter for GradientBoostingClassifier is {'learning_rate': 0.05, 'max_depth': 2, 'n_estimators': 300, 'random_state': 0} with a runtime of 264.45 seconds.\n",
    "            #'criterion': ['friedman_mse', 'mse', 'mae'], #default=”friedman_mse”\n",
    "            'max_depth': grid_max_depth, #default=3   \n",
    "            'random_state': grid_seed\n",
    "             }],\n",
    "\n",
    "    \n",
    "            [{\n",
    "            #RandomForestClassifier - http://scikit-learn.org/stable/modules/generated/sklearn.ensemble.RandomForestClassifier.html#sklearn.ensemble.RandomForestClassifier\n",
    "            'n_estimators': grid_n_estimator, #default=10\n",
    "            'criterion': grid_criterion, #default=”gini”\n",
    "            'max_depth': grid_max_depth, #default=None\n",
    "            'oob_score': [True], #default=False -- 12/31/17 set to reduce runtime -- The best parameter for RandomForestClassifier is {'criterion': 'entropy', 'max_depth': 6, 'n_estimators': 100, 'oob_score': True, 'random_state': 0} with a runtime of 146.35 seconds.\n",
    "            'random_state': grid_seed\n",
    "             }],\n",
    "\n",
    "            [{\n",
    "            #KNeighborsClassifier - http://scikit-learn.org/stable/modules/generated/sklearn.neighbors.KNeighborsClassifier.html#sklearn.neighbors.KNeighborsClassifier\n",
    "            'n_neighbors': [1,2,3,4,5,6,7], #default: 5\n",
    "            'weights': ['uniform', 'distance'], #default = ‘uniform’\n",
    "            'algorithm': ['auto', 'ball_tree', 'kd_tree', 'brute']\n",
    "            }],\n",
    "            \n",
    "    \n",
    "            [{\n",
    "            #SVC - http://scikit-learn.org/stable/modules/generated/sklearn.svm.SVC.html#sklearn.svm.SVC\n",
    "            #http://blog.hackerearth.com/simple-tutorial-svm-parameter-tuning-python-r\n",
    "            #'kernel': ['linear', 'poly', 'rbf', 'sigmoid'],\n",
    "            'C': [1,2,3,4,5], #default=1.0\n",
    "            'gamma': grid_ratio, #edfault: auto\n",
    "            'decision_function_shape': ['ovo', 'ovr'], #default:ovr\n",
    "            'probability': [True],\n",
    "            'random_state': grid_seed\n",
    "             }],\n",
    "\n",
    "    \n",
    "            [{\n",
    "            #XGBClassifier - http://xgboost.readthedocs.io/en/latest/parameter.html\n",
    "            'learning_rate': grid_learn, #default: .3\n",
    "            'max_depth': [1,2,4,6,8,10], #default 2\n",
    "            'n_estimators': grid_n_estimator, \n",
    "            'seed': grid_seed  \n",
    "             }]   \n",
    "        ]\n",
    "\n",
    "\n",
    "\n",
    "start_total = time.perf_counter() #https://docs.python.org/3/library/time.html#time.perf_counter\n",
    "for clf, param in zip(vote_est, grid_param): #https://docs.python.org/3/library/functions.html#zip\n",
    "\n",
    "    #print(clf[1]) #vote_est is a list of tuples, index 0 is the name and index 1 is the algorithm\n",
    "    #print(param)\n",
    "    \n",
    "    start = time.perf_counter()        \n",
    "    best_search = model_selection.GridSearchCV(estimator = clf[1], param_grid = param, cv = cv_split, scoring = 'roc_auc')\n",
    "    best_search.fit(titanic_df_X, titanic_df_Y)\n",
    "    run = time.perf_counter() - start\n",
    "\n",
    "    best_param = best_search.best_params_\n",
    "    print('The best parameter for {} is {} with a runtime of {:.2f} seconds.'.format(clf[1].__class__.__name__, best_param, run))\n",
    "    clf[1].set_params(**best_param) \n",
    "\n",
    "\n",
    "run_total = time.perf_counter() - start_total\n",
    "print('Total optimization time was {:.2f} minutes.'.format(run_total/60))\n",
    "\n",
    "print('-'*10)\n",
    "\n",
    "# The best parameter for AdaBoostClassifier is {'learning_rate': 0.1, 'n_estimators': 300, 'random_state': 0} with a runtime of 37.28 seconds.\n",
    "# The best parameter for BaggingClassifier is {'max_samples': 0.25, 'n_estimators': 300, 'random_state': 0} with a runtime of 33.04 seconds.\n",
    "# The best parameter for ExtraTreesClassifier is {'criterion': 'entropy', 'max_depth': 6, 'n_estimators': 100, 'random_state': 0} with a runtime of 68.93 seconds.\n",
    "# The best parameter for GradientBoostingClassifier is {'learning_rate': 0.05, 'max_depth': 2, 'n_estimators': 300, 'random_state': 0} with a runtime of 38.77 seconds.\n",
    "# The best parameter for RandomForestClassifier is {'criterion': 'entropy', 'max_depth': 6, 'n_estimators': 100, 'oob_score': True, 'random_state': 0} with a runtime of 84.14 seconds.\n",
    "# The best parameter for GaussianProcessClassifier is {'max_iter_predict': 10, 'random_state': 0} with a runtime of 6.19 seconds.\n",
    "# The best parameter for LogisticRegressionCV is {'fit_intercept': True, 'random_state': 0, 'solver': 'liblinear'} with a runtime of 9.40 seconds.\n",
    "# The best parameter for BernoulliNB is {'alpha': 0.1} with a runtime of 0.24 seconds.\n",
    "# The best parameter for GaussianNB is {} with a runtime of 0.05 seconds.\n",
    "# The best parameter for KNeighborsClassifier is {'algorithm': 'brute', 'n_neighbors': 7, 'weights': 'uniform'} with a runtime of 5.56 seconds.\n",
    "# The best parameter for SVC is {'C': 2, 'decision_function_shape': 'ovo', 'gamma': 0.1, 'probability': True, 'random_state': 0} with a runtime of 30.49 seconds.\n",
    "# The best parameter for XGBClassifier is {'learning_rate': 0.01, 'max_depth': 4, 'n_estimators': 300, 'seed': 0} with a runtime of 43.57 seconds.\n",
    "# Total optimization time was 5.96 minutes.\n",
    "# ----------"
   ]
  },
  {
   "cell_type": "code",
   "execution_count": null,
   "metadata": {},
   "outputs": [],
   "source": [
    "#Hard Vote or majority rules\n",
    "vote_hard = ensemble.VotingClassifier(estimators = vote_est , voting = 'hard')\n",
    "vote_hard_cv = model_selection.cross_validate(vote_hard, titanic_df_X, titanic_df_Y, cv  = cv_split)\n",
    "vote_hard.fit(titanic_df_X, titanic_df_Y)\n",
    "\n",
    "# print(\"Hard Voting Training w/bin score mean: {:.2f}\". format(vote_hard_cv['train_score'].mean()*100)) \n",
    "print(\"Hard Voting Test w/bin score mean: {:.2f}\". format(vote_hard_cv['test_score'].mean()*100))\n",
    "print(\"Hard Voting Test w/bin score 3*std: +/- {:.2f}\". format(vote_hard_cv['test_score'].std()*100*3))\n",
    "print('-'*10)\n",
    "\n",
    "\n",
    "#Soft Vote or weighted probabilities\n",
    "vote_soft = ensemble.VotingClassifier(estimators = vote_est , voting = 'soft')\n",
    "vote_soft_cv = model_selection.cross_validate(vote_soft, titanic_df_X, titanic_df_Y, cv  = cv_split)\n",
    "vote_soft.fit(titanic_df_X, titanic_df_Y)\n",
    "\n",
    "# print(\"Soft Voting Training w/bin score mean: {:.2f}\". format(vote_soft_cv['train_score'].mean()*100)) \n",
    "print(\"Soft Voting Test w/bin score mean: {:.2f}\". format(vote_soft_cv['test_score'].mean()*100))\n",
    "print(\"Soft Voting Test w/bin score 3*std: +/- {:.2f}\". format(vote_soft_cv['test_score'].std()*100*3))\n",
    "print('-'*10)"
   ]
  },
  {
   "cell_type": "code",
   "execution_count": null,
   "metadata": {},
   "outputs": [],
   "source": [
    "# titanic_df_test_X.isna().sum()\n",
    "\n",
    "# model_xgb = MLA[3]\n",
    "\n",
    "print(titanic_df_test_X.head())\n",
    "predicted = vote_hard.predict(titanic_df_test_X)\n",
    "titanic_df_submit = pd.DataFrame({'PassengerId': titanic_df_test['PassengerId'],'Survived':  predicted})\n",
    "\n",
    "filename = 'titanic_submission_hard_voting.csv'\n",
    "titanic_df_submit.to_csv(filename,index=False)\n",
    "print('Saved file: ' + filename)"
   ]
  },
  {
   "cell_type": "code",
   "execution_count": null,
   "metadata": {},
   "outputs": [],
   "source": []
  }
 ],
 "metadata": {
  "kernelspec": {
   "display_name": "Python 3",
   "language": "python",
   "name": "python3"
  },
  "language_info": {
   "codemirror_mode": {
    "name": "ipython",
    "version": 3
   },
   "file_extension": ".py",
   "mimetype": "text/x-python",
   "name": "python",
   "nbconvert_exporter": "python",
   "pygments_lexer": "ipython3",
   "version": "3.6.6"
  }
 },
 "nbformat": 4,
 "nbformat_minor": 2
}
